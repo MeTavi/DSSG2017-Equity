{
 "cells": [
  {
   "cell_type": "code",
   "execution_count": 5,
   "metadata": {
    "collapsed": true
   },
   "outputs": [],
   "source": [
    "from shapely.geometry import shape, Point, Polygon\n",
    "from shapely.ops import cascaded_union\n",
    "import pandas\n",
    "import json"
   ]
  },
  {
   "cell_type": "code",
   "execution_count": 29,
   "metadata": {},
   "outputs": [
    {
     "data": {
      "text/html": [
       "<div>\n",
       "<style>\n",
       "    .dataframe thead tr:only-child th {\n",
       "        text-align: right;\n",
       "    }\n",
       "\n",
       "    .dataframe thead th {\n",
       "        text-align: left;\n",
       "    }\n",
       "\n",
       "    .dataframe tbody tr th {\n",
       "        vertical-align: top;\n",
       "    }\n",
       "</style>\n",
       "<table border=\"1\" class=\"dataframe\">\n",
       "  <thead>\n",
       "    <tr style=\"text-align: right;\">\n",
       "      <th></th>\n",
       "      <th>gis_id</th>\n",
       "      <th>long</th>\n",
       "      <th>lat</th>\n",
       "    </tr>\n",
       "  </thead>\n",
       "  <tbody>\n",
       "    <tr>\n",
       "      <th>0</th>\n",
       "      <td>530330001001</td>\n",
       "      <td>-122.284690</td>\n",
       "      <td>47.726825</td>\n",
       "    </tr>\n",
       "    <tr>\n",
       "      <th>1</th>\n",
       "      <td>530330001002</td>\n",
       "      <td>-122.292467</td>\n",
       "      <td>47.729319</td>\n",
       "    </tr>\n",
       "    <tr>\n",
       "      <th>2</th>\n",
       "      <td>530330001003</td>\n",
       "      <td>-122.289454</td>\n",
       "      <td>47.722812</td>\n",
       "    </tr>\n",
       "    <tr>\n",
       "      <th>3</th>\n",
       "      <td>530330001004</td>\n",
       "      <td>-122.294451</td>\n",
       "      <td>47.731938</td>\n",
       "    </tr>\n",
       "    <tr>\n",
       "      <th>4</th>\n",
       "      <td>530330001005</td>\n",
       "      <td>-122.294437</td>\n",
       "      <td>47.722929</td>\n",
       "    </tr>\n",
       "  </tbody>\n",
       "</table>\n",
       "</div>"
      ],
      "text/plain": [
       "         gis_id        long        lat\n",
       "0  530330001001 -122.284690  47.726825\n",
       "1  530330001002 -122.292467  47.729319\n",
       "2  530330001003 -122.289454  47.722812\n",
       "3  530330001004 -122.294451  47.731938\n",
       "4  530330001005 -122.294437  47.722929"
      ]
     },
     "execution_count": 29,
     "metadata": {},
     "output_type": "execute_result"
    }
   ],
   "source": [
    "BG_centroids = pandas.read_csv('BG_centroids.csv')\n",
    "BG_centroids.head()"
   ]
  },
  {
   "cell_type": "code",
   "execution_count": 30,
   "metadata": {
    "collapsed": true
   },
   "outputs": [],
   "source": [
    "BG_centroids['school'] = 'nan'"
   ]
  },
  {
   "cell_type": "code",
   "execution_count": 31,
   "metadata": {},
   "outputs": [],
   "source": [
    "#load in the school boundary polygons\n",
    "with open('sps_hs.geojson') as f:\n",
    "    js = json.load(f)"
   ]
  },
  {
   "cell_type": "code",
   "execution_count": 32,
   "metadata": {},
   "outputs": [],
   "source": [
    "#for each BG, find which polygon (school boundary zone) the BG centroid is in, and assign the school name to that BG\n",
    "count = 0\n",
    "for ind, BG in BG_centroids.iterrows():\n",
    "    #print(stop['stop_lat'], stop['stop_lon'])\n",
    "    point = Point(BG['long'], BG['lat'])\n",
    "    #print(point)\n",
    "    for feature in js['features']:\n",
    "        #print(feature)\n",
    "        polygon = shape(feature['geometry'])\n",
    "        #print(polygon.contains(point))\n",
    "        if polygon.contains(point):\n",
    "            count = count + 1\n",
    "            found_polygon = feature['properties']\n",
    "            #print(found_polygon['ES_ZONE'])\n",
    "            BG_centroids.loc[ind, 'school'] = found_polygon['HS_ZONE']\n",
    "            #print('Found containing polygon:', feature['properties'])\n",
    "            break"
   ]
  },
  {
   "cell_type": "code",
   "execution_count": 33,
   "metadata": {},
   "outputs": [
    {
     "data": {
      "text/html": [
       "<div>\n",
       "<style>\n",
       "    .dataframe thead tr:only-child th {\n",
       "        text-align: right;\n",
       "    }\n",
       "\n",
       "    .dataframe thead th {\n",
       "        text-align: left;\n",
       "    }\n",
       "\n",
       "    .dataframe tbody tr th {\n",
       "        vertical-align: top;\n",
       "    }\n",
       "</style>\n",
       "<table border=\"1\" class=\"dataframe\">\n",
       "  <thead>\n",
       "    <tr style=\"text-align: right;\">\n",
       "      <th></th>\n",
       "      <th>gis_id</th>\n",
       "      <th>long</th>\n",
       "      <th>lat</th>\n",
       "      <th>school</th>\n",
       "    </tr>\n",
       "  </thead>\n",
       "  <tbody>\n",
       "    <tr>\n",
       "      <th>0</th>\n",
       "      <td>530330001001</td>\n",
       "      <td>-122.284690</td>\n",
       "      <td>47.726825</td>\n",
       "      <td>Nathan Hale</td>\n",
       "    </tr>\n",
       "    <tr>\n",
       "      <th>1</th>\n",
       "      <td>530330001002</td>\n",
       "      <td>-122.292467</td>\n",
       "      <td>47.729319</td>\n",
       "      <td>Nathan Hale</td>\n",
       "    </tr>\n",
       "    <tr>\n",
       "      <th>2</th>\n",
       "      <td>530330001003</td>\n",
       "      <td>-122.289454</td>\n",
       "      <td>47.722812</td>\n",
       "      <td>Nathan Hale</td>\n",
       "    </tr>\n",
       "    <tr>\n",
       "      <th>3</th>\n",
       "      <td>530330001004</td>\n",
       "      <td>-122.294451</td>\n",
       "      <td>47.731938</td>\n",
       "      <td>Nathan Hale</td>\n",
       "    </tr>\n",
       "    <tr>\n",
       "      <th>4</th>\n",
       "      <td>530330001005</td>\n",
       "      <td>-122.294437</td>\n",
       "      <td>47.722929</td>\n",
       "      <td>Nathan Hale</td>\n",
       "    </tr>\n",
       "  </tbody>\n",
       "</table>\n",
       "</div>"
      ],
      "text/plain": [
       "         gis_id        long        lat       school\n",
       "0  530330001001 -122.284690  47.726825  Nathan Hale\n",
       "1  530330001002 -122.292467  47.729319  Nathan Hale\n",
       "2  530330001003 -122.289454  47.722812  Nathan Hale\n",
       "3  530330001004 -122.294451  47.731938  Nathan Hale\n",
       "4  530330001005 -122.294437  47.722929  Nathan Hale"
      ]
     },
     "execution_count": 33,
     "metadata": {},
     "output_type": "execute_result"
    }
   ],
   "source": [
    "BG_centroids.head()"
   ]
  },
  {
   "cell_type": "code",
   "execution_count": 34,
   "metadata": {
    "collapsed": true
   },
   "outputs": [],
   "source": [
    "BG_centroids.to_csv('BG_sps_hs.csv')"
   ]
  },
  {
   "cell_type": "code",
   "execution_count": null,
   "metadata": {
    "collapsed": true
   },
   "outputs": [],
   "source": []
  }
 ],
 "metadata": {
  "kernelspec": {
   "display_name": "Python 3",
   "language": "python",
   "name": "python3"
  },
  "language_info": {
   "codemirror_mode": {
    "name": "ipython",
    "version": 3
   },
   "file_extension": ".py",
   "mimetype": "text/x-python",
   "name": "python",
   "nbconvert_exporter": "python",
   "pygments_lexer": "ipython3",
   "version": "3.6.1"
  }
 },
 "nbformat": 4,
 "nbformat_minor": 2
}
