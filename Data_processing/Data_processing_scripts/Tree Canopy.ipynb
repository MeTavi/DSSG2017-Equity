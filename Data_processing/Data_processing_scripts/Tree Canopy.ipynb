{
 "cells": [
  {
   "cell_type": "code",
   "execution_count": 1,
   "metadata": {
    "collapsed": true
   },
   "outputs": [],
   "source": [
    "import json\n",
    "import math\n",
    "from shapely.geometry import shape, Point, Polygon\n",
    "from shapely.ops import cascaded_union\n",
    "from datetime import datetime\n",
    "import pandas"
   ]
  },
  {
   "cell_type": "code",
   "execution_count": 15,
   "metadata": {
    "collapsed": true
   },
   "outputs": [],
   "source": [
    "#create a dataframe to store our canopy info in\n",
    "columns = ['Area','Centroid']\n",
    "canopy = pandas.DataFrame(columns=columns)\n",
    "canopy = canopy.fillna(0) # with 0s rather than NaNs"
   ]
  },
  {
   "cell_type": "code",
   "execution_count": 16,
   "metadata": {
    "collapsed": true
   },
   "outputs": [],
   "source": [
    "#load in the tree canopy shapes\n",
    "with open('Tree Canopy 2016.geojson') as f:\n",
    "    js = json.load(f)"
   ]
  },
  {
   "cell_type": "code",
   "execution_count": 17,
   "metadata": {
    "collapsed": true
   },
   "outputs": [],
   "source": [
    "#load in the BG shapes\n",
    "with open('cityBG_simp20_trial.geojson') as f:\n",
    "    BGjs = json.load(f)"
   ]
  },
  {
   "cell_type": "code",
   "execution_count": 18,
   "metadata": {
    "collapsed": true
   },
   "outputs": [],
   "source": [
    "#for every canopy shape, find its centroid and area (in km^2)\n",
    "index = 0\n",
    "for feature in js['features']:\n",
    "    #print(feature)\n",
    "    polygon = shape(feature['geometry'])\n",
    "    area = polygon.area*6370**2  \n",
    "    centroid = polygon.centroid.wkt\n",
    "    #print(area, centroid)\n",
    "    canopy.set_value(index, 'Area', area)\n",
    "    canopy.set_value(index, 'Centroid', centroid)\n",
    "    index = index + 1"
   ]
  },
  {
   "cell_type": "code",
   "execution_count": 19,
   "metadata": {},
   "outputs": [
    {
     "data": {
      "text/plain": [
       "318487"
      ]
     },
     "execution_count": 19,
     "metadata": {},
     "output_type": "execute_result"
    }
   ],
   "source": [
    "len(js['features'])"
   ]
  },
  {
   "cell_type": "code",
   "execution_count": 20,
   "metadata": {},
   "outputs": [
    {
     "data": {
      "text/html": [
       "<div>\n",
       "<style>\n",
       "    .dataframe thead tr:only-child th {\n",
       "        text-align: right;\n",
       "    }\n",
       "\n",
       "    .dataframe thead th {\n",
       "        text-align: left;\n",
       "    }\n",
       "\n",
       "    .dataframe tbody tr th {\n",
       "        vertical-align: top;\n",
       "    }\n",
       "</style>\n",
       "<table border=\"1\" class=\"dataframe\">\n",
       "  <thead>\n",
       "    <tr style=\"text-align: right;\">\n",
       "      <th></th>\n",
       "      <th>Area</th>\n",
       "      <th>Centroid</th>\n",
       "    </tr>\n",
       "  </thead>\n",
       "  <tbody>\n",
       "    <tr>\n",
       "      <th>0</th>\n",
       "      <td>0.156865</td>\n",
       "      <td>POINT (-122.2616986291356 47.49616576331935)</td>\n",
       "    </tr>\n",
       "    <tr>\n",
       "      <th>1</th>\n",
       "      <td>0.152619</td>\n",
       "      <td>POINT (-122.2697749720351 47.49611623267621)</td>\n",
       "    </tr>\n",
       "    <tr>\n",
       "      <th>2</th>\n",
       "      <td>0.343389</td>\n",
       "      <td>POINT (-122.2618122774478 47.49621193458199)</td>\n",
       "    </tr>\n",
       "    <tr>\n",
       "      <th>3</th>\n",
       "      <td>0.36439</td>\n",
       "      <td>POINT (-122.2616856786135 47.49728937570325)</td>\n",
       "    </tr>\n",
       "    <tr>\n",
       "      <th>4</th>\n",
       "      <td>0.349257</td>\n",
       "      <td>POINT (-122.2636454862029 47.49728236174681)</td>\n",
       "    </tr>\n",
       "  </tbody>\n",
       "</table>\n",
       "</div>"
      ],
      "text/plain": [
       "       Area                                      Centroid\n",
       "0  0.156865  POINT (-122.2616986291356 47.49616576331935)\n",
       "1  0.152619  POINT (-122.2697749720351 47.49611623267621)\n",
       "2  0.343389  POINT (-122.2618122774478 47.49621193458199)\n",
       "3   0.36439  POINT (-122.2616856786135 47.49728937570325)\n",
       "4  0.349257  POINT (-122.2636454862029 47.49728236174681)"
      ]
     },
     "execution_count": 20,
     "metadata": {},
     "output_type": "execute_result"
    }
   ],
   "source": [
    "canopy.head()"
   ]
  },
  {
   "cell_type": "code",
   "execution_count": 21,
   "metadata": {
    "collapsed": true
   },
   "outputs": [],
   "source": [
    "canopy.to_csv('canopy.csv')"
   ]
  },
  {
   "cell_type": "code",
   "execution_count": 22,
   "metadata": {
    "collapsed": true
   },
   "outputs": [],
   "source": [
    "#now open excel and modify"
   ]
  },
  {
   "cell_type": "code",
   "execution_count": 23,
   "metadata": {
    "collapsed": true
   },
   "outputs": [],
   "source": [
    "#load the BG centroids\n",
    "canopies = pandas.read_csv('canopy.csv')"
   ]
  },
  {
   "cell_type": "code",
   "execution_count": 24,
   "metadata": {
    "collapsed": true
   },
   "outputs": [],
   "source": [
    "#a place to save the areas to the BGs\n",
    "BG_canopy_area = pandas.read_csv('BG_canopy.csv')"
   ]
  },
  {
   "cell_type": "code",
   "execution_count": 25,
   "metadata": {
    "collapsed": true
   },
   "outputs": [],
   "source": [
    "#find which BG each canopy shape is in, and add the area to the total canopy area for that block group\n",
    "count = 0\n",
    "for ind, canopy in canopies.iterrows():\n",
    "    #print(canopy)\n",
    "    point = Point(canopy['long'], canopy['lat'])\n",
    "    for feature in BGjs['features']:\n",
    "        #print(feature)\n",
    "        polygon = shape(feature['geometry'])\n",
    "        #print(polygon.contains(point))\n",
    "        if polygon.contains(point):\n",
    "            count = count + 1\n",
    "            found_polygon = feature['properties']\n",
    "            BG_id = found_polygon['gis_id']\n",
    "            \n",
    "            #look up current stored area for this BG\n",
    "            current_area = BG_canopy_area.loc[BG_canopy_area['gis_id'] == int(BG_id), 'area'].iloc[0]\n",
    "            index = BG_canopy_area.loc[BG_canopy_area['gis_id'] == int(BG_id)].index\n",
    "            new_area = current_area + canopy['Area']\n",
    "            BG_canopy_area.set_value(index, 'area', new_area)\n",
    "            \n",
    "            break"
   ]
  },
  {
   "cell_type": "code",
   "execution_count": 26,
   "metadata": {},
   "outputs": [
    {
     "data": {
      "text/html": [
       "<div>\n",
       "<style>\n",
       "    .dataframe thead tr:only-child th {\n",
       "        text-align: right;\n",
       "    }\n",
       "\n",
       "    .dataframe thead th {\n",
       "        text-align: left;\n",
       "    }\n",
       "\n",
       "    .dataframe tbody tr th {\n",
       "        vertical-align: top;\n",
       "    }\n",
       "</style>\n",
       "<table border=\"1\" class=\"dataframe\">\n",
       "  <thead>\n",
       "    <tr style=\"text-align: right;\">\n",
       "      <th></th>\n",
       "      <th>gis_id</th>\n",
       "      <th>area</th>\n",
       "    </tr>\n",
       "  </thead>\n",
       "  <tbody>\n",
       "    <tr>\n",
       "      <th>0</th>\n",
       "      <td>530330001001</td>\n",
       "      <td>2116.255814</td>\n",
       "    </tr>\n",
       "    <tr>\n",
       "      <th>1</th>\n",
       "      <td>530330001002</td>\n",
       "      <td>362.016790</td>\n",
       "    </tr>\n",
       "    <tr>\n",
       "      <th>2</th>\n",
       "      <td>530330001003</td>\n",
       "      <td>575.028649</td>\n",
       "    </tr>\n",
       "    <tr>\n",
       "      <th>3</th>\n",
       "      <td>530330001004</td>\n",
       "      <td>117.707928</td>\n",
       "    </tr>\n",
       "    <tr>\n",
       "      <th>4</th>\n",
       "      <td>530330001005</td>\n",
       "      <td>192.824906</td>\n",
       "    </tr>\n",
       "  </tbody>\n",
       "</table>\n",
       "</div>"
      ],
      "text/plain": [
       "         gis_id         area\n",
       "0  530330001001  2116.255814\n",
       "1  530330001002   362.016790\n",
       "2  530330001003   575.028649\n",
       "3  530330001004   117.707928\n",
       "4  530330001005   192.824906"
      ]
     },
     "execution_count": 26,
     "metadata": {},
     "output_type": "execute_result"
    }
   ],
   "source": [
    "BG_canopy_area.head()"
   ]
  },
  {
   "cell_type": "code",
   "execution_count": 27,
   "metadata": {
    "collapsed": true
   },
   "outputs": [],
   "source": [
    "#save to an appropriate file\n",
    "BG_canopy_area.to_csv('BG_canopy_areas.csv')"
   ]
  },
  {
   "cell_type": "code",
   "execution_count": null,
   "metadata": {
    "collapsed": true
   },
   "outputs": [],
   "source": []
  }
 ],
 "metadata": {
  "kernelspec": {
   "display_name": "Python 3",
   "language": "python",
   "name": "python3"
  },
  "language_info": {
   "codemirror_mode": {
    "name": "ipython",
    "version": 3
   },
   "file_extension": ".py",
   "mimetype": "text/x-python",
   "name": "python",
   "nbconvert_exporter": "python",
   "pygments_lexer": "ipython3",
   "version": "3.6.1"
  }
 },
 "nbformat": 4,
 "nbformat_minor": 2
}
