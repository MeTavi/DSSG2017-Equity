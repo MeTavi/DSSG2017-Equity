{
 "cells": [
  {
   "cell_type": "code",
   "execution_count": 1,
   "metadata": {
    "collapsed": true
   },
   "outputs": [],
   "source": [
    "#for a list of points of interest, find the shortest distance from all BG centroids to nearest poi\n",
    "\n",
    "import pandas\n",
    "import math"
   ]
  },
  {
   "cell_type": "code",
   "execution_count": 7,
   "metadata": {
    "collapsed": true
   },
   "outputs": [],
   "source": [
    "#load in the POIs\n",
    "inputs = pandas.read_csv('food_banks.csv')[['long','lat']]"
   ]
  },
  {
   "cell_type": "code",
   "execution_count": 3,
   "metadata": {
    "collapsed": true
   },
   "outputs": [],
   "source": [
    "# function to find the (straight line) distance between 2 lat,long points\n",
    "def distance(lon1,lat1,lon2,lat2):\n",
    "    radius = 6371 # km\n",
    "\n",
    "    dlat = math.radians(lat2-lat1)\n",
    "    dlon = math.radians(lon2-lon1)\n",
    "    a = math.sin(dlat/2) * math.sin(dlat/2) + math.cos(math.radians(lat1)) \\\n",
    "        * math.cos(math.radians(lat2)) * math.sin(dlon/2) * math.sin(dlon/2)\n",
    "    c = 2 * math.atan2(math.sqrt(a), math.sqrt(1-a))\n",
    "    d = radius * c\n",
    "\n",
    "    return d"
   ]
  },
  {
   "cell_type": "code",
   "execution_count": 4,
   "metadata": {
    "collapsed": true
   },
   "outputs": [],
   "source": [
    "#load the BG centroids\n",
    "BG_centroids = pandas.read_csv('BG_centroids.csv')"
   ]
  },
  {
   "cell_type": "code",
   "execution_count": 5,
   "metadata": {
    "collapsed": true
   },
   "outputs": [],
   "source": [
    "def get_shortest_distance(long1,lat1,inputs):\n",
    "    dist = 100000000000\n",
    "    \n",
    "    #find the closest point (straight distance)\n",
    "    for index, row in inputs.iterrows():\n",
    "        long1_fl = float(long1)\n",
    "        lat1_fl = float(lat1)\n",
    "        long2_fl = float(row['long'])\n",
    "        lat2_fl = float(row['lat'])\n",
    "        dist_test = distance(long1_fl,lat1_fl,long2_fl,lat2_fl)\n",
    "        if dist_test < dist:\n",
    "            dist = dist_test\n",
    "            \n",
    "    return dist"
   ]
  },
  {
   "cell_type": "code",
   "execution_count": 8,
   "metadata": {
    "collapsed": true
   },
   "outputs": [],
   "source": [
    "for index, row in BG_centroids.iterrows():\n",
    "    long1 = str(row['long'])\n",
    "    lat1 = str(row['lat'])\n",
    "    #print(long1,lat1)\n",
    "    distance_value = get_shortest_distance(long1,lat1,inputs)\n",
    "    BG_centroids.set_value(index, 'distance', distance_value)"
   ]
  },
  {
   "cell_type": "code",
   "execution_count": 9,
   "metadata": {},
   "outputs": [
    {
     "data": {
      "text/html": [
       "<div>\n",
       "<style>\n",
       "    .dataframe thead tr:only-child th {\n",
       "        text-align: right;\n",
       "    }\n",
       "\n",
       "    .dataframe thead th {\n",
       "        text-align: left;\n",
       "    }\n",
       "\n",
       "    .dataframe tbody tr th {\n",
       "        vertical-align: top;\n",
       "    }\n",
       "</style>\n",
       "<table border=\"1\" class=\"dataframe\">\n",
       "  <thead>\n",
       "    <tr style=\"text-align: right;\">\n",
       "      <th></th>\n",
       "      <th>gis_id</th>\n",
       "      <th>long</th>\n",
       "      <th>lat</th>\n",
       "      <th>distance</th>\n",
       "    </tr>\n",
       "  </thead>\n",
       "  <tbody>\n",
       "    <tr>\n",
       "      <th>0</th>\n",
       "      <td>530330001001</td>\n",
       "      <td>-122.284690</td>\n",
       "      <td>47.726825</td>\n",
       "      <td>1.081258</td>\n",
       "    </tr>\n",
       "    <tr>\n",
       "      <th>1</th>\n",
       "      <td>530330001002</td>\n",
       "      <td>-122.292467</td>\n",
       "      <td>47.729319</td>\n",
       "      <td>0.952924</td>\n",
       "    </tr>\n",
       "    <tr>\n",
       "      <th>2</th>\n",
       "      <td>530330001003</td>\n",
       "      <td>-122.289454</td>\n",
       "      <td>47.722812</td>\n",
       "      <td>0.554669</td>\n",
       "    </tr>\n",
       "    <tr>\n",
       "      <th>3</th>\n",
       "      <td>530330001004</td>\n",
       "      <td>-122.294451</td>\n",
       "      <td>47.731938</td>\n",
       "      <td>1.205558</td>\n",
       "    </tr>\n",
       "    <tr>\n",
       "      <th>4</th>\n",
       "      <td>530330001005</td>\n",
       "      <td>-122.294437</td>\n",
       "      <td>47.722929</td>\n",
       "      <td>0.246476</td>\n",
       "    </tr>\n",
       "  </tbody>\n",
       "</table>\n",
       "</div>"
      ],
      "text/plain": [
       "         gis_id        long        lat  distance\n",
       "0  530330001001 -122.284690  47.726825  1.081258\n",
       "1  530330001002 -122.292467  47.729319  0.952924\n",
       "2  530330001003 -122.289454  47.722812  0.554669\n",
       "3  530330001004 -122.294451  47.731938  1.205558\n",
       "4  530330001005 -122.294437  47.722929  0.246476"
      ]
     },
     "execution_count": 9,
     "metadata": {},
     "output_type": "execute_result"
    }
   ],
   "source": [
    "#distance value are in km\n",
    "BG_centroids.head()"
   ]
  },
  {
   "cell_type": "code",
   "execution_count": 10,
   "metadata": {
    "collapsed": true
   },
   "outputs": [],
   "source": [
    "#save to an appropriate file\n",
    "BG_centroids.to_csv('BG_dist_food_banks.csv')"
   ]
  },
  {
   "cell_type": "code",
   "execution_count": null,
   "metadata": {
    "collapsed": true
   },
   "outputs": [],
   "source": []
  }
 ],
 "metadata": {
  "kernelspec": {
   "display_name": "Python 3",
   "language": "python",
   "name": "python3"
  },
  "language_info": {
   "codemirror_mode": {
    "name": "ipython",
    "version": 3
   },
   "file_extension": ".py",
   "mimetype": "text/x-python",
   "name": "python",
   "nbconvert_exporter": "python",
   "pygments_lexer": "ipython3",
   "version": "3.6.1"
  }
 },
 "nbformat": 4,
 "nbformat_minor": 2
}
