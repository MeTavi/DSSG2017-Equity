{
 "cells": [
  {
   "cell_type": "code",
   "execution_count": 1,
   "metadata": {
    "collapsed": true
   },
   "outputs": [],
   "source": [
    "import math\n",
    "import pandas\n",
    "import json\n",
    "from shapely.geometry import shape, Point, Polygon\n",
    "from shapely.ops import cascaded_union"
   ]
  },
  {
   "cell_type": "code",
   "execution_count": 2,
   "metadata": {},
   "outputs": [
    {
     "data": {
      "text/plain": [
       "136"
      ]
     },
     "execution_count": 2,
     "metadata": {},
     "output_type": "execute_result"
    }
   ],
   "source": [
    "#a place to save the permit values and number to a BG\n",
    "tract = pandas.read_csv('tract_CW.csv')\n",
    "len(tract)"
   ]
  },
  {
   "cell_type": "code",
   "execution_count": 234,
   "metadata": {
    "collapsed": true
   },
   "outputs": [],
   "source": [
    "#load in all the permits \n",
    "BGs = pandas.read_csv('BG_crosswalk_predictions.csv')"
   ]
  },
  {
   "cell_type": "code",
   "execution_count": 284,
   "metadata": {},
   "outputs": [
    {
     "data": {
      "text/plain": [
       "'dev'"
      ]
     },
     "execution_count": 284,
     "metadata": {},
     "output_type": "execute_result"
    }
   ],
   "source": [
    "#get the data headings to calculate\n",
    "headings = list(BGs)[4:]\n",
    "value = headings[7]\n",
    "value"
   ]
  },
  {
   "cell_type": "code",
   "execution_count": 285,
   "metadata": {
    "collapsed": true
   },
   "outputs": [],
   "source": [
    "g = BGs.groupby('tract')"
   ]
  },
  {
   "cell_type": "code",
   "execution_count": 286,
   "metadata": {
    "collapsed": true
   },
   "outputs": [],
   "source": [
    "BGs['temp'] = BGs.area/g.area.transform(\"sum\")*BGs[value]"
   ]
  },
  {
   "cell_type": "code",
   "execution_count": 287,
   "metadata": {},
   "outputs": [
    {
     "data": {
      "text/plain": [
       "-0.21747818755990764"
      ]
     },
     "execution_count": 287,
     "metadata": {},
     "output_type": "execute_result"
    }
   ],
   "source": [
    "newcol = g.temp.sum()\n",
    "newcol.iloc[0]"
   ]
  },
  {
   "cell_type": "code",
   "execution_count": 288,
   "metadata": {
    "collapsed": true
   },
   "outputs": [],
   "source": [
    "for index, area in tract.iterrows():\n",
    "    tract.set_value(index, value, newcol.iloc[index])"
   ]
  },
  {
   "cell_type": "code",
   "execution_count": 289,
   "metadata": {},
   "outputs": [
    {
     "data": {
      "text/html": [
       "<div>\n",
       "<style>\n",
       "    .dataframe thead tr:only-child th {\n",
       "        text-align: right;\n",
       "    }\n",
       "\n",
       "    .dataframe thead th {\n",
       "        text-align: left;\n",
       "    }\n",
       "\n",
       "    .dataframe tbody tr th {\n",
       "        vertical-align: top;\n",
       "    }\n",
       "</style>\n",
       "<table border=\"1\" class=\"dataframe\">\n",
       "  <thead>\n",
       "    <tr style=\"text-align: right;\">\n",
       "      <th></th>\n",
       "      <th>tract_id</th>\n",
       "      <th>socio_status</th>\n",
       "      <th>fam_friendliness</th>\n",
       "      <th>infrastructure</th>\n",
       "      <th>connectivity</th>\n",
       "      <th>elem</th>\n",
       "      <th>upper</th>\n",
       "      <th>health</th>\n",
       "      <th>health_inverse</th>\n",
       "      <th>dev</th>\n",
       "      <th>...</th>\n",
       "      <th>avg_driving_time</th>\n",
       "      <th>avg_transit_time</th>\n",
       "      <th>sidewalk_availability</th>\n",
       "      <th>pop_perc_poc</th>\n",
       "      <th>pop_perc_no_HI</th>\n",
       "      <th>median_household_income</th>\n",
       "      <th>per_capita_income</th>\n",
       "      <th>pop_perc_unemployed</th>\n",
       "      <th>education_level</th>\n",
       "      <th>median_house_value</th>\n",
       "    </tr>\n",
       "  </thead>\n",
       "  <tbody>\n",
       "    <tr>\n",
       "      <th>0</th>\n",
       "      <td>53033000100</td>\n",
       "      <td>-0.211941</td>\n",
       "      <td>0.137573</td>\n",
       "      <td>-0.580510</td>\n",
       "      <td>-0.669318</td>\n",
       "      <td>0.253854</td>\n",
       "      <td>0.306836</td>\n",
       "      <td>0.515259</td>\n",
       "      <td>NaN</td>\n",
       "      <td>-0.217478</td>\n",
       "      <td>...</td>\n",
       "      <td>NaN</td>\n",
       "      <td>NaN</td>\n",
       "      <td>NaN</td>\n",
       "      <td>NaN</td>\n",
       "      <td>NaN</td>\n",
       "      <td>NaN</td>\n",
       "      <td>NaN</td>\n",
       "      <td>NaN</td>\n",
       "      <td>NaN</td>\n",
       "      <td>NaN</td>\n",
       "    </tr>\n",
       "    <tr>\n",
       "      <th>1</th>\n",
       "      <td>53033000200</td>\n",
       "      <td>-0.291066</td>\n",
       "      <td>1.237923</td>\n",
       "      <td>-0.537529</td>\n",
       "      <td>-0.641445</td>\n",
       "      <td>0.299390</td>\n",
       "      <td>0.265247</td>\n",
       "      <td>0.296384</td>\n",
       "      <td>NaN</td>\n",
       "      <td>-0.292944</td>\n",
       "      <td>...</td>\n",
       "      <td>NaN</td>\n",
       "      <td>NaN</td>\n",
       "      <td>NaN</td>\n",
       "      <td>NaN</td>\n",
       "      <td>NaN</td>\n",
       "      <td>NaN</td>\n",
       "      <td>NaN</td>\n",
       "      <td>NaN</td>\n",
       "      <td>NaN</td>\n",
       "      <td>NaN</td>\n",
       "    </tr>\n",
       "    <tr>\n",
       "      <th>2</th>\n",
       "      <td>53033000300</td>\n",
       "      <td>-0.641292</td>\n",
       "      <td>0.789226</td>\n",
       "      <td>-0.873543</td>\n",
       "      <td>-1.025452</td>\n",
       "      <td>-0.506898</td>\n",
       "      <td>-0.178163</td>\n",
       "      <td>1.017934</td>\n",
       "      <td>NaN</td>\n",
       "      <td>-0.296500</td>\n",
       "      <td>...</td>\n",
       "      <td>NaN</td>\n",
       "      <td>NaN</td>\n",
       "      <td>NaN</td>\n",
       "      <td>NaN</td>\n",
       "      <td>NaN</td>\n",
       "      <td>NaN</td>\n",
       "      <td>NaN</td>\n",
       "      <td>NaN</td>\n",
       "      <td>NaN</td>\n",
       "      <td>NaN</td>\n",
       "    </tr>\n",
       "    <tr>\n",
       "      <th>3</th>\n",
       "      <td>53033000401</td>\n",
       "      <td>-0.662786</td>\n",
       "      <td>0.141765</td>\n",
       "      <td>-0.677959</td>\n",
       "      <td>-0.978215</td>\n",
       "      <td>-0.436271</td>\n",
       "      <td>-0.223876</td>\n",
       "      <td>1.144713</td>\n",
       "      <td>NaN</td>\n",
       "      <td>-0.293873</td>\n",
       "      <td>...</td>\n",
       "      <td>NaN</td>\n",
       "      <td>NaN</td>\n",
       "      <td>NaN</td>\n",
       "      <td>NaN</td>\n",
       "      <td>NaN</td>\n",
       "      <td>NaN</td>\n",
       "      <td>NaN</td>\n",
       "      <td>NaN</td>\n",
       "      <td>NaN</td>\n",
       "      <td>NaN</td>\n",
       "    </tr>\n",
       "    <tr>\n",
       "      <th>4</th>\n",
       "      <td>53033000402</td>\n",
       "      <td>-0.189209</td>\n",
       "      <td>0.015113</td>\n",
       "      <td>-0.435023</td>\n",
       "      <td>-0.589048</td>\n",
       "      <td>-0.554546</td>\n",
       "      <td>-0.170169</td>\n",
       "      <td>0.555644</td>\n",
       "      <td>NaN</td>\n",
       "      <td>-0.277169</td>\n",
       "      <td>...</td>\n",
       "      <td>NaN</td>\n",
       "      <td>NaN</td>\n",
       "      <td>NaN</td>\n",
       "      <td>NaN</td>\n",
       "      <td>NaN</td>\n",
       "      <td>NaN</td>\n",
       "      <td>NaN</td>\n",
       "      <td>NaN</td>\n",
       "      <td>NaN</td>\n",
       "      <td>NaN</td>\n",
       "    </tr>\n",
       "  </tbody>\n",
       "</table>\n",
       "<p>5 rows × 56 columns</p>\n",
       "</div>"
      ],
      "text/plain": [
       "      tract_id  socio_status  fam_friendliness  infrastructure  connectivity  \\\n",
       "0  53033000100     -0.211941          0.137573       -0.580510     -0.669318   \n",
       "1  53033000200     -0.291066          1.237923       -0.537529     -0.641445   \n",
       "2  53033000300     -0.641292          0.789226       -0.873543     -1.025452   \n",
       "3  53033000401     -0.662786          0.141765       -0.677959     -0.978215   \n",
       "4  53033000402     -0.189209          0.015113       -0.435023     -0.589048   \n",
       "\n",
       "       elem     upper    health  health_inverse       dev         ...          \\\n",
       "0  0.253854  0.306836  0.515259             NaN -0.217478         ...           \n",
       "1  0.299390  0.265247  0.296384             NaN -0.292944         ...           \n",
       "2 -0.506898 -0.178163  1.017934             NaN -0.296500         ...           \n",
       "3 -0.436271 -0.223876  1.144713             NaN -0.293873         ...           \n",
       "4 -0.554546 -0.170169  0.555644             NaN -0.277169         ...           \n",
       "\n",
       "   avg_driving_time  avg_transit_time  sidewalk_availability  pop_perc_poc  \\\n",
       "0               NaN               NaN                    NaN           NaN   \n",
       "1               NaN               NaN                    NaN           NaN   \n",
       "2               NaN               NaN                    NaN           NaN   \n",
       "3               NaN               NaN                    NaN           NaN   \n",
       "4               NaN               NaN                    NaN           NaN   \n",
       "\n",
       "   pop_perc_no_HI  median_household_income  per_capita_income  \\\n",
       "0             NaN                      NaN                NaN   \n",
       "1             NaN                      NaN                NaN   \n",
       "2             NaN                      NaN                NaN   \n",
       "3             NaN                      NaN                NaN   \n",
       "4             NaN                      NaN                NaN   \n",
       "\n",
       "   pop_perc_unemployed  education_level  median_house_value  \n",
       "0                  NaN              NaN                 NaN  \n",
       "1                  NaN              NaN                 NaN  \n",
       "2                  NaN              NaN                 NaN  \n",
       "3                  NaN              NaN                 NaN  \n",
       "4                  NaN              NaN                 NaN  \n",
       "\n",
       "[5 rows x 56 columns]"
      ]
     },
     "execution_count": 289,
     "metadata": {},
     "output_type": "execute_result"
    }
   ],
   "source": [
    "tract.head()"
   ]
  },
  {
   "cell_type": "code",
   "execution_count": 290,
   "metadata": {
    "collapsed": true
   },
   "outputs": [],
   "source": [
    "#save to an appropriate file\n",
    "tract.to_csv('tract_crosswalk_out_predict_housing_units.csv')"
   ]
  },
  {
   "cell_type": "code",
   "execution_count": null,
   "metadata": {
    "collapsed": true
   },
   "outputs": [],
   "source": []
  },
  {
   "cell_type": "code",
   "execution_count": 392,
   "metadata": {
    "collapsed": true
   },
   "outputs": [],
   "source": [
    "#get the ones that are totals rather than weighted averages\n",
    "othercol = BGs.groupby(['tract']).sum()['total_value_permits']"
   ]
  },
  {
   "cell_type": "code",
   "execution_count": 396,
   "metadata": {
    "collapsed": true
   },
   "outputs": [],
   "source": [
    "for index, area in tract.iterrows():\n",
    "    tract.set_value(index, 'total_value_permits', othercol.iloc[index])"
   ]
  },
  {
   "cell_type": "code",
   "execution_count": 397,
   "metadata": {},
   "outputs": [
    {
     "data": {
      "text/html": [
       "<div>\n",
       "<style>\n",
       "    .dataframe thead tr:only-child th {\n",
       "        text-align: right;\n",
       "    }\n",
       "\n",
       "    .dataframe thead th {\n",
       "        text-align: left;\n",
       "    }\n",
       "\n",
       "    .dataframe tbody tr th {\n",
       "        vertical-align: top;\n",
       "    }\n",
       "</style>\n",
       "<table border=\"1\" class=\"dataframe\">\n",
       "  <thead>\n",
       "    <tr style=\"text-align: right;\">\n",
       "      <th></th>\n",
       "      <th>tract_id</th>\n",
       "      <th>socio_status</th>\n",
       "      <th>fam_friendliness</th>\n",
       "      <th>infrastructure</th>\n",
       "      <th>connectivity</th>\n",
       "      <th>elem</th>\n",
       "      <th>upper</th>\n",
       "      <th>health</th>\n",
       "      <th>health_inverse</th>\n",
       "      <th>dev</th>\n",
       "      <th>...</th>\n",
       "      <th>avg_driving_time</th>\n",
       "      <th>avg_transit_time</th>\n",
       "      <th>sidewalk_availability</th>\n",
       "      <th>pop_perc_poc</th>\n",
       "      <th>pop_perc_no_HI</th>\n",
       "      <th>median_household_income</th>\n",
       "      <th>per_capita_income</th>\n",
       "      <th>pop_perc_unemployed</th>\n",
       "      <th>education_level</th>\n",
       "      <th>median_house_value</th>\n",
       "    </tr>\n",
       "  </thead>\n",
       "  <tbody>\n",
       "    <tr>\n",
       "      <th>0</th>\n",
       "      <td>53033000100</td>\n",
       "      <td>-0.176219</td>\n",
       "      <td>0.056112</td>\n",
       "      <td>-0.602184</td>\n",
       "      <td>-0.657005</td>\n",
       "      <td>0.145142</td>\n",
       "      <td>0.321540</td>\n",
       "      <td>0.480787</td>\n",
       "      <td>-0.480787</td>\n",
       "      <td>-0.163180</td>\n",
       "      <td>...</td>\n",
       "      <td>22.420504</td>\n",
       "      <td>61.800633</td>\n",
       "      <td>0.023876</td>\n",
       "      <td>0.389294</td>\n",
       "      <td>0.084661</td>\n",
       "      <td>69174.337273</td>\n",
       "      <td>44890.942713</td>\n",
       "      <td>0.042197</td>\n",
       "      <td>2.387129</td>\n",
       "      <td>450976.744901</td>\n",
       "    </tr>\n",
       "    <tr>\n",
       "      <th>1</th>\n",
       "      <td>53033000200</td>\n",
       "      <td>-0.262767</td>\n",
       "      <td>1.173386</td>\n",
       "      <td>-0.554700</td>\n",
       "      <td>-0.631689</td>\n",
       "      <td>0.213263</td>\n",
       "      <td>0.276896</td>\n",
       "      <td>0.269074</td>\n",
       "      <td>-0.269074</td>\n",
       "      <td>-0.249927</td>\n",
       "      <td>...</td>\n",
       "      <td>22.536101</td>\n",
       "      <td>68.416900</td>\n",
       "      <td>0.024179</td>\n",
       "      <td>0.440068</td>\n",
       "      <td>0.101865</td>\n",
       "      <td>69618.467903</td>\n",
       "      <td>33126.945274</td>\n",
       "      <td>0.057910</td>\n",
       "      <td>2.472173</td>\n",
       "      <td>346111.348902</td>\n",
       "    </tr>\n",
       "    <tr>\n",
       "      <th>2</th>\n",
       "      <td>53033000300</td>\n",
       "      <td>-0.612264</td>\n",
       "      <td>0.723030</td>\n",
       "      <td>-0.891156</td>\n",
       "      <td>-1.015446</td>\n",
       "      <td>-0.595242</td>\n",
       "      <td>-0.166217</td>\n",
       "      <td>0.989922</td>\n",
       "      <td>-0.989922</td>\n",
       "      <td>-0.252376</td>\n",
       "      <td>...</td>\n",
       "      <td>20.944708</td>\n",
       "      <td>72.276461</td>\n",
       "      <td>0.012834</td>\n",
       "      <td>0.297734</td>\n",
       "      <td>0.148630</td>\n",
       "      <td>71367.602368</td>\n",
       "      <td>37625.530764</td>\n",
       "      <td>0.015465</td>\n",
       "      <td>2.015828</td>\n",
       "      <td>337315.166102</td>\n",
       "    </tr>\n",
       "    <tr>\n",
       "      <th>3</th>\n",
       "      <td>53033000401</td>\n",
       "      <td>-0.596081</td>\n",
       "      <td>-0.010352</td>\n",
       "      <td>-0.718435</td>\n",
       "      <td>-0.955223</td>\n",
       "      <td>-0.639284</td>\n",
       "      <td>-0.196421</td>\n",
       "      <td>1.080343</td>\n",
       "      <td>-1.080343</td>\n",
       "      <td>-0.192477</td>\n",
       "      <td>...</td>\n",
       "      <td>24.932000</td>\n",
       "      <td>69.061658</td>\n",
       "      <td>0.027370</td>\n",
       "      <td>0.514914</td>\n",
       "      <td>0.095285</td>\n",
       "      <td>44890.783529</td>\n",
       "      <td>30364.428301</td>\n",
       "      <td>0.032161</td>\n",
       "      <td>2.234361</td>\n",
       "      <td>309750.745464</td>\n",
       "    </tr>\n",
       "    <tr>\n",
       "      <th>4</th>\n",
       "      <td>53033000402</td>\n",
       "      <td>-0.157741</td>\n",
       "      <td>-0.056650</td>\n",
       "      <td>-0.454118</td>\n",
       "      <td>-0.578202</td>\n",
       "      <td>-0.650319</td>\n",
       "      <td>-0.157216</td>\n",
       "      <td>0.525278</td>\n",
       "      <td>-0.525278</td>\n",
       "      <td>-0.229334</td>\n",
       "      <td>...</td>\n",
       "      <td>21.511360</td>\n",
       "      <td>64.393667</td>\n",
       "      <td>0.027965</td>\n",
       "      <td>0.264754</td>\n",
       "      <td>0.105297</td>\n",
       "      <td>58411.737591</td>\n",
       "      <td>43235.186442</td>\n",
       "      <td>0.024986</td>\n",
       "      <td>2.450647</td>\n",
       "      <td>401289.626179</td>\n",
       "    </tr>\n",
       "  </tbody>\n",
       "</table>\n",
       "<p>5 rows × 56 columns</p>\n",
       "</div>"
      ],
      "text/plain": [
       "      tract_id  socio_status  fam_friendliness  infrastructure  connectivity  \\\n",
       "0  53033000100     -0.176219          0.056112       -0.602184     -0.657005   \n",
       "1  53033000200     -0.262767          1.173386       -0.554700     -0.631689   \n",
       "2  53033000300     -0.612264          0.723030       -0.891156     -1.015446   \n",
       "3  53033000401     -0.596081         -0.010352       -0.718435     -0.955223   \n",
       "4  53033000402     -0.157741         -0.056650       -0.454118     -0.578202   \n",
       "\n",
       "       elem     upper    health  health_inverse       dev         ...          \\\n",
       "0  0.145142  0.321540  0.480787       -0.480787 -0.163180         ...           \n",
       "1  0.213263  0.276896  0.269074       -0.269074 -0.249927         ...           \n",
       "2 -0.595242 -0.166217  0.989922       -0.989922 -0.252376         ...           \n",
       "3 -0.639284 -0.196421  1.080343       -1.080343 -0.192477         ...           \n",
       "4 -0.650319 -0.157216  0.525278       -0.525278 -0.229334         ...           \n",
       "\n",
       "   avg_driving_time  avg_transit_time  sidewalk_availability  pop_perc_poc  \\\n",
       "0         22.420504         61.800633               0.023876      0.389294   \n",
       "1         22.536101         68.416900               0.024179      0.440068   \n",
       "2         20.944708         72.276461               0.012834      0.297734   \n",
       "3         24.932000         69.061658               0.027370      0.514914   \n",
       "4         21.511360         64.393667               0.027965      0.264754   \n",
       "\n",
       "   pop_perc_no_HI  median_household_income  per_capita_income  \\\n",
       "0        0.084661             69174.337273       44890.942713   \n",
       "1        0.101865             69618.467903       33126.945274   \n",
       "2        0.148630             71367.602368       37625.530764   \n",
       "3        0.095285             44890.783529       30364.428301   \n",
       "4        0.105297             58411.737591       43235.186442   \n",
       "\n",
       "   pop_perc_unemployed  education_level  median_house_value  \n",
       "0             0.042197         2.387129       450976.744901  \n",
       "1             0.057910         2.472173       346111.348902  \n",
       "2             0.015465         2.015828       337315.166102  \n",
       "3             0.032161         2.234361       309750.745464  \n",
       "4             0.024986         2.450647       401289.626179  \n",
       "\n",
       "[5 rows x 56 columns]"
      ]
     },
     "execution_count": 397,
     "metadata": {},
     "output_type": "execute_result"
    }
   ],
   "source": [
    "tract.head()"
   ]
  },
  {
   "cell_type": "code",
   "execution_count": 398,
   "metadata": {
    "collapsed": true
   },
   "outputs": [],
   "source": [
    "#save to an appropriate file\n",
    "tract.to_csv('tract_crosswalk_out.csv')"
   ]
  },
  {
   "cell_type": "code",
   "execution_count": null,
   "metadata": {
    "collapsed": true
   },
   "outputs": [],
   "source": []
  }
 ],
 "metadata": {
  "kernelspec": {
   "display_name": "Python 3",
   "language": "python",
   "name": "python3"
  },
  "language_info": {
   "codemirror_mode": {
    "name": "ipython",
    "version": 3
   },
   "file_extension": ".py",
   "mimetype": "text/x-python",
   "name": "python",
   "nbconvert_exporter": "python",
   "pygments_lexer": "ipython3",
   "version": "3.6.1"
  }
 },
 "nbformat": 4,
 "nbformat_minor": 2
}
