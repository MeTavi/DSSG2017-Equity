{
 "cells": [
  {
   "cell_type": "code",
   "execution_count": 1,
   "metadata": {
    "collapsed": true
   },
   "outputs": [],
   "source": [
    "import math\n",
    "import pandas\n",
    "import json\n",
    "from shapely.geometry import shape, Point, Polygon\n",
    "from shapely.ops import cascaded_union"
   ]
  },
  {
   "cell_type": "code",
   "execution_count": 2,
   "metadata": {
    "collapsed": true
   },
   "outputs": [],
   "source": [
    "#a place to save the permit values and number to a BG\n",
    "neighborhood = pandas.read_csv('NBH_crosswalk.csv')"
   ]
  },
  {
   "cell_type": "code",
   "execution_count": 208,
   "metadata": {
    "collapsed": true
   },
   "outputs": [],
   "source": [
    "BGs = pandas.read_csv('BG_crosswalk_predictions.csv')"
   ]
  },
  {
   "cell_type": "code",
   "execution_count": 251,
   "metadata": {},
   "outputs": [
    {
     "data": {
      "text/plain": [
       "'dev'"
      ]
     },
     "execution_count": 251,
     "metadata": {},
     "output_type": "execute_result"
    }
   ],
   "source": [
    "#get the data headings to calculate\n",
    "headings = list(BGs)[4:]\n",
    "value = headings[7]\n",
    "value"
   ]
  },
  {
   "cell_type": "code",
   "execution_count": 252,
   "metadata": {
    "collapsed": true
   },
   "outputs": [],
   "source": [
    "g = BGs.groupby('neighborhood')"
   ]
  },
  {
   "cell_type": "code",
   "execution_count": 253,
   "metadata": {
    "collapsed": true
   },
   "outputs": [],
   "source": [
    "BGs['temp'] = BGs.area/g.area.transform(\"sum\")*BGs[value]"
   ]
  },
  {
   "cell_type": "code",
   "execution_count": 254,
   "metadata": {},
   "outputs": [
    {
     "data": {
      "text/plain": [
       "-0.32998792488392981"
      ]
     },
     "execution_count": 254,
     "metadata": {},
     "output_type": "execute_result"
    }
   ],
   "source": [
    "newcol = g.temp.sum()\n",
    "newcol.iloc[0]"
   ]
  },
  {
   "cell_type": "code",
   "execution_count": 255,
   "metadata": {
    "collapsed": true
   },
   "outputs": [],
   "source": [
    "for index, NBH in neighborhood.iterrows():\n",
    "    neighborhood.set_value(index, value, newcol.iloc[index])"
   ]
  },
  {
   "cell_type": "code",
   "execution_count": 256,
   "metadata": {},
   "outputs": [
    {
     "data": {
      "text/html": [
       "<div>\n",
       "<style>\n",
       "    .dataframe thead tr:only-child th {\n",
       "        text-align: right;\n",
       "    }\n",
       "\n",
       "    .dataframe thead th {\n",
       "        text-align: left;\n",
       "    }\n",
       "\n",
       "    .dataframe tbody tr th {\n",
       "        vertical-align: top;\n",
       "    }\n",
       "</style>\n",
       "<table border=\"1\" class=\"dataframe\">\n",
       "  <thead>\n",
       "    <tr style=\"text-align: right;\">\n",
       "      <th></th>\n",
       "      <th>neighborhood</th>\n",
       "      <th>socio_status</th>\n",
       "      <th>fam_friendliness</th>\n",
       "      <th>infrastructure</th>\n",
       "      <th>connectivity</th>\n",
       "      <th>elem</th>\n",
       "      <th>upper</th>\n",
       "      <th>health</th>\n",
       "      <th>health_inverse</th>\n",
       "      <th>dev</th>\n",
       "      <th>...</th>\n",
       "      <th>avg_transit_time</th>\n",
       "      <th>sidewalk_availability</th>\n",
       "      <th>pop_perc_poc</th>\n",
       "      <th>pop_perc_no_HI</th>\n",
       "      <th>median_household_income</th>\n",
       "      <th>per_capita_income</th>\n",
       "      <th>pop_perc_unemployed</th>\n",
       "      <th>education_level</th>\n",
       "      <th>median_house_value</th>\n",
       "      <th>fam_friendlnss</th>\n",
       "    </tr>\n",
       "  </thead>\n",
       "  <tbody>\n",
       "    <tr>\n",
       "      <th>0</th>\n",
       "      <td>1.1</td>\n",
       "      <td>0.152960</td>\n",
       "      <td>1.296323</td>\n",
       "      <td>-0.458827</td>\n",
       "      <td>-1.913921</td>\n",
       "      <td>-0.567015</td>\n",
       "      <td>-1.964712</td>\n",
       "      <td>1.675957</td>\n",
       "      <td>NaN</td>\n",
       "      <td>-0.329988</td>\n",
       "      <td>...</td>\n",
       "      <td>NaN</td>\n",
       "      <td>NaN</td>\n",
       "      <td>NaN</td>\n",
       "      <td>NaN</td>\n",
       "      <td>NaN</td>\n",
       "      <td>NaN</td>\n",
       "      <td>NaN</td>\n",
       "      <td>NaN</td>\n",
       "      <td>NaN</td>\n",
       "      <td>1.411045</td>\n",
       "    </tr>\n",
       "    <tr>\n",
       "      <th>1</th>\n",
       "      <td>1.2</td>\n",
       "      <td>0.371193</td>\n",
       "      <td>0.587614</td>\n",
       "      <td>0.164820</td>\n",
       "      <td>-1.301287</td>\n",
       "      <td>-0.506491</td>\n",
       "      <td>-0.783257</td>\n",
       "      <td>1.166258</td>\n",
       "      <td>NaN</td>\n",
       "      <td>-0.323647</td>\n",
       "      <td>...</td>\n",
       "      <td>NaN</td>\n",
       "      <td>NaN</td>\n",
       "      <td>NaN</td>\n",
       "      <td>NaN</td>\n",
       "      <td>NaN</td>\n",
       "      <td>NaN</td>\n",
       "      <td>NaN</td>\n",
       "      <td>NaN</td>\n",
       "      <td>NaN</td>\n",
       "      <td>0.664320</td>\n",
       "    </tr>\n",
       "    <tr>\n",
       "      <th>2</th>\n",
       "      <td>1.3</td>\n",
       "      <td>0.467945</td>\n",
       "      <td>0.379622</td>\n",
       "      <td>-0.305271</td>\n",
       "      <td>-0.509226</td>\n",
       "      <td>-0.039532</td>\n",
       "      <td>-0.510852</td>\n",
       "      <td>0.335249</td>\n",
       "      <td>NaN</td>\n",
       "      <td>-0.097564</td>\n",
       "      <td>...</td>\n",
       "      <td>NaN</td>\n",
       "      <td>NaN</td>\n",
       "      <td>NaN</td>\n",
       "      <td>NaN</td>\n",
       "      <td>NaN</td>\n",
       "      <td>NaN</td>\n",
       "      <td>NaN</td>\n",
       "      <td>NaN</td>\n",
       "      <td>NaN</td>\n",
       "      <td>0.430357</td>\n",
       "    </tr>\n",
       "    <tr>\n",
       "      <th>3</th>\n",
       "      <td>1.4</td>\n",
       "      <td>0.668220</td>\n",
       "      <td>-0.193478</td>\n",
       "      <td>-0.359801</td>\n",
       "      <td>-1.172381</td>\n",
       "      <td>0.251192</td>\n",
       "      <td>-0.096499</td>\n",
       "      <td>1.195947</td>\n",
       "      <td>NaN</td>\n",
       "      <td>-0.329171</td>\n",
       "      <td>...</td>\n",
       "      <td>NaN</td>\n",
       "      <td>NaN</td>\n",
       "      <td>NaN</td>\n",
       "      <td>NaN</td>\n",
       "      <td>NaN</td>\n",
       "      <td>NaN</td>\n",
       "      <td>NaN</td>\n",
       "      <td>NaN</td>\n",
       "      <td>NaN</td>\n",
       "      <td>-0.110608</td>\n",
       "    </tr>\n",
       "    <tr>\n",
       "      <th>4</th>\n",
       "      <td>2.1</td>\n",
       "      <td>0.139861</td>\n",
       "      <td>0.102154</td>\n",
       "      <td>0.264213</td>\n",
       "      <td>-0.736842</td>\n",
       "      <td>-0.323124</td>\n",
       "      <td>-0.286547</td>\n",
       "      <td>0.596609</td>\n",
       "      <td>NaN</td>\n",
       "      <td>-0.072577</td>\n",
       "      <td>...</td>\n",
       "      <td>NaN</td>\n",
       "      <td>NaN</td>\n",
       "      <td>NaN</td>\n",
       "      <td>NaN</td>\n",
       "      <td>NaN</td>\n",
       "      <td>NaN</td>\n",
       "      <td>NaN</td>\n",
       "      <td>NaN</td>\n",
       "      <td>NaN</td>\n",
       "      <td>0.162729</td>\n",
       "    </tr>\n",
       "  </tbody>\n",
       "</table>\n",
       "<p>5 rows × 57 columns</p>\n",
       "</div>"
      ],
      "text/plain": [
       "   neighborhood  socio_status  fam_friendliness  infrastructure  connectivity  \\\n",
       "0           1.1      0.152960          1.296323       -0.458827     -1.913921   \n",
       "1           1.2      0.371193          0.587614        0.164820     -1.301287   \n",
       "2           1.3      0.467945          0.379622       -0.305271     -0.509226   \n",
       "3           1.4      0.668220         -0.193478       -0.359801     -1.172381   \n",
       "4           2.1      0.139861          0.102154        0.264213     -0.736842   \n",
       "\n",
       "       elem     upper    health  health_inverse       dev       ...        \\\n",
       "0 -0.567015 -1.964712  1.675957             NaN -0.329988       ...         \n",
       "1 -0.506491 -0.783257  1.166258             NaN -0.323647       ...         \n",
       "2 -0.039532 -0.510852  0.335249             NaN -0.097564       ...         \n",
       "3  0.251192 -0.096499  1.195947             NaN -0.329171       ...         \n",
       "4 -0.323124 -0.286547  0.596609             NaN -0.072577       ...         \n",
       "\n",
       "   avg_transit_time  sidewalk_availability  pop_perc_poc  pop_perc_no_HI  \\\n",
       "0               NaN                    NaN           NaN             NaN   \n",
       "1               NaN                    NaN           NaN             NaN   \n",
       "2               NaN                    NaN           NaN             NaN   \n",
       "3               NaN                    NaN           NaN             NaN   \n",
       "4               NaN                    NaN           NaN             NaN   \n",
       "\n",
       "   median_household_income  per_capita_income  pop_perc_unemployed  \\\n",
       "0                      NaN                NaN                  NaN   \n",
       "1                      NaN                NaN                  NaN   \n",
       "2                      NaN                NaN                  NaN   \n",
       "3                      NaN                NaN                  NaN   \n",
       "4                      NaN                NaN                  NaN   \n",
       "\n",
       "   education_level  median_house_value  fam_friendlnss  \n",
       "0              NaN                 NaN        1.411045  \n",
       "1              NaN                 NaN        0.664320  \n",
       "2              NaN                 NaN        0.430357  \n",
       "3              NaN                 NaN       -0.110608  \n",
       "4              NaN                 NaN        0.162729  \n",
       "\n",
       "[5 rows x 57 columns]"
      ]
     },
     "execution_count": 256,
     "metadata": {},
     "output_type": "execute_result"
    }
   ],
   "source": [
    "neighborhood.head()"
   ]
  },
  {
   "cell_type": "code",
   "execution_count": 257,
   "metadata": {},
   "outputs": [],
   "source": [
    "#save to an appropriate file\n",
    "neighborhood.to_csv('NBH_crosswalk_out_predict_houseing_units.csv')"
   ]
  },
  {
   "cell_type": "code",
   "execution_count": null,
   "metadata": {
    "collapsed": true
   },
   "outputs": [],
   "source": [
    "###################################################################"
   ]
  },
  {
   "cell_type": "code",
   "execution_count": 483,
   "metadata": {
    "collapsed": true
   },
   "outputs": [],
   "source": [
    "#get the ones that are totals rather than weighted averages\n",
    "othercol = BGs.groupby(['neighborhood']).sum()['occupied_housing_units']"
   ]
  },
  {
   "cell_type": "code",
   "execution_count": 484,
   "metadata": {
    "collapsed": true
   },
   "outputs": [],
   "source": [
    "for index, NBH in neighborhood.iterrows():\n",
    "    neighborhood.set_value(index, 'occupied_housing_units', othercol.iloc[index])"
   ]
  },
  {
   "cell_type": "code",
   "execution_count": 485,
   "metadata": {},
   "outputs": [
    {
     "data": {
      "text/html": [
       "<div>\n",
       "<style>\n",
       "    .dataframe thead tr:only-child th {\n",
       "        text-align: right;\n",
       "    }\n",
       "\n",
       "    .dataframe thead th {\n",
       "        text-align: left;\n",
       "    }\n",
       "\n",
       "    .dataframe tbody tr th {\n",
       "        vertical-align: top;\n",
       "    }\n",
       "</style>\n",
       "<table border=\"1\" class=\"dataframe\">\n",
       "  <thead>\n",
       "    <tr style=\"text-align: right;\">\n",
       "      <th></th>\n",
       "      <th>neighborhood</th>\n",
       "      <th>socio_status</th>\n",
       "      <th>fam_friendliness</th>\n",
       "      <th>infrastructure</th>\n",
       "      <th>connectivity</th>\n",
       "      <th>elem</th>\n",
       "      <th>upper</th>\n",
       "      <th>health</th>\n",
       "      <th>health_inverse</th>\n",
       "      <th>dev</th>\n",
       "      <th>...</th>\n",
       "      <th>avg_driving_time</th>\n",
       "      <th>avg_transit_time</th>\n",
       "      <th>sidewalk_availability</th>\n",
       "      <th>pop_perc_poc</th>\n",
       "      <th>pop_perc_no_HI</th>\n",
       "      <th>median_household_income</th>\n",
       "      <th>per_capita_income</th>\n",
       "      <th>pop_perc_unemployed</th>\n",
       "      <th>education_level</th>\n",
       "      <th>median_house_value</th>\n",
       "    </tr>\n",
       "  </thead>\n",
       "  <tbody>\n",
       "    <tr>\n",
       "      <th>0</th>\n",
       "      <td>1.1</td>\n",
       "      <td>0.181651</td>\n",
       "      <td>1.230893</td>\n",
       "      <td>-0.476235</td>\n",
       "      <td>-1.904033</td>\n",
       "      <td>-0.654332</td>\n",
       "      <td>-1.952902</td>\n",
       "      <td>1.648271</td>\n",
       "      <td>-1.648271</td>\n",
       "      <td>-0.286376</td>\n",
       "      <td>...</td>\n",
       "      <td>24.235309</td>\n",
       "      <td>72.949879</td>\n",
       "      <td>0.030404</td>\n",
       "      <td>0.236240</td>\n",
       "      <td>0.045739</td>\n",
       "      <td>90266.420007</td>\n",
       "      <td>51521.563289</td>\n",
       "      <td>0.019127</td>\n",
       "      <td>2.516948</td>\n",
       "      <td>411470.864673</td>\n",
       "    </tr>\n",
       "    <tr>\n",
       "      <th>1</th>\n",
       "      <td>1.2</td>\n",
       "      <td>0.401389</td>\n",
       "      <td>0.518753</td>\n",
       "      <td>0.146498</td>\n",
       "      <td>-1.290879</td>\n",
       "      <td>-0.598388</td>\n",
       "      <td>-0.770828</td>\n",
       "      <td>1.137120</td>\n",
       "      <td>-1.137120</td>\n",
       "      <td>-0.277748</td>\n",
       "      <td>...</td>\n",
       "      <td>22.361693</td>\n",
       "      <td>65.505271</td>\n",
       "      <td>0.095981</td>\n",
       "      <td>0.187746</td>\n",
       "      <td>0.064054</td>\n",
       "      <td>98796.096211</td>\n",
       "      <td>56308.903802</td>\n",
       "      <td>0.024111</td>\n",
       "      <td>2.577040</td>\n",
       "      <td>515713.306882</td>\n",
       "    </tr>\n",
       "    <tr>\n",
       "      <th>2</th>\n",
       "      <td>1.3</td>\n",
       "      <td>0.498748</td>\n",
       "      <td>0.309376</td>\n",
       "      <td>-0.323962</td>\n",
       "      <td>-0.498610</td>\n",
       "      <td>-0.133277</td>\n",
       "      <td>-0.498173</td>\n",
       "      <td>0.305525</td>\n",
       "      <td>-0.305525</td>\n",
       "      <td>-0.050742</td>\n",
       "      <td>...</td>\n",
       "      <td>19.234676</td>\n",
       "      <td>60.209061</td>\n",
       "      <td>0.078318</td>\n",
       "      <td>0.170976</td>\n",
       "      <td>0.044669</td>\n",
       "      <td>88096.270331</td>\n",
       "      <td>45567.473402</td>\n",
       "      <td>0.014490</td>\n",
       "      <td>2.668689</td>\n",
       "      <td>444225.781243</td>\n",
       "    </tr>\n",
       "    <tr>\n",
       "      <th>3</th>\n",
       "      <td>1.4</td>\n",
       "      <td>0.705610</td>\n",
       "      <td>-0.278745</td>\n",
       "      <td>-0.382488</td>\n",
       "      <td>-1.159496</td>\n",
       "      <td>0.137397</td>\n",
       "      <td>-0.081106</td>\n",
       "      <td>1.159868</td>\n",
       "      <td>-1.159868</td>\n",
       "      <td>-0.272336</td>\n",
       "      <td>...</td>\n",
       "      <td>21.457958</td>\n",
       "      <td>70.371776</td>\n",
       "      <td>0.062538</td>\n",
       "      <td>0.170000</td>\n",
       "      <td>0.053894</td>\n",
       "      <td>102085.136128</td>\n",
       "      <td>64787.430995</td>\n",
       "      <td>0.024033</td>\n",
       "      <td>2.733852</td>\n",
       "      <td>608060.851782</td>\n",
       "    </tr>\n",
       "    <tr>\n",
       "      <th>4</th>\n",
       "      <td>2.1</td>\n",
       "      <td>0.170742</td>\n",
       "      <td>0.031729</td>\n",
       "      <td>0.245475</td>\n",
       "      <td>-0.726198</td>\n",
       "      <td>-0.417110</td>\n",
       "      <td>-0.273835</td>\n",
       "      <td>0.566810</td>\n",
       "      <td>-0.566810</td>\n",
       "      <td>-0.025636</td>\n",
       "      <td>...</td>\n",
       "      <td>17.000000</td>\n",
       "      <td>62.364581</td>\n",
       "      <td>0.053638</td>\n",
       "      <td>0.310020</td>\n",
       "      <td>0.054025</td>\n",
       "      <td>66778.672171</td>\n",
       "      <td>45884.717672</td>\n",
       "      <td>0.041214</td>\n",
       "      <td>2.668554</td>\n",
       "      <td>333179.057606</td>\n",
       "    </tr>\n",
       "  </tbody>\n",
       "</table>\n",
       "<p>5 rows × 56 columns</p>\n",
       "</div>"
      ],
      "text/plain": [
       "   neighborhood  socio_status  fam_friendliness  infrastructure  connectivity  \\\n",
       "0           1.1      0.181651          1.230893       -0.476235     -1.904033   \n",
       "1           1.2      0.401389          0.518753        0.146498     -1.290879   \n",
       "2           1.3      0.498748          0.309376       -0.323962     -0.498610   \n",
       "3           1.4      0.705610         -0.278745       -0.382488     -1.159496   \n",
       "4           2.1      0.170742          0.031729        0.245475     -0.726198   \n",
       "\n",
       "       elem     upper    health  health_inverse       dev         ...          \\\n",
       "0 -0.654332 -1.952902  1.648271       -1.648271 -0.286376         ...           \n",
       "1 -0.598388 -0.770828  1.137120       -1.137120 -0.277748         ...           \n",
       "2 -0.133277 -0.498173  0.305525       -0.305525 -0.050742         ...           \n",
       "3  0.137397 -0.081106  1.159868       -1.159868 -0.272336         ...           \n",
       "4 -0.417110 -0.273835  0.566810       -0.566810 -0.025636         ...           \n",
       "\n",
       "   avg_driving_time  avg_transit_time  sidewalk_availability  pop_perc_poc  \\\n",
       "0         24.235309         72.949879               0.030404      0.236240   \n",
       "1         22.361693         65.505271               0.095981      0.187746   \n",
       "2         19.234676         60.209061               0.078318      0.170976   \n",
       "3         21.457958         70.371776               0.062538      0.170000   \n",
       "4         17.000000         62.364581               0.053638      0.310020   \n",
       "\n",
       "   pop_perc_no_HI  median_household_income  per_capita_income  \\\n",
       "0        0.045739             90266.420007       51521.563289   \n",
       "1        0.064054             98796.096211       56308.903802   \n",
       "2        0.044669             88096.270331       45567.473402   \n",
       "3        0.053894            102085.136128       64787.430995   \n",
       "4        0.054025             66778.672171       45884.717672   \n",
       "\n",
       "   pop_perc_unemployed  education_level  median_house_value  \n",
       "0             0.019127         2.516948       411470.864673  \n",
       "1             0.024111         2.577040       515713.306882  \n",
       "2             0.014490         2.668689       444225.781243  \n",
       "3             0.024033         2.733852       608060.851782  \n",
       "4             0.041214         2.668554       333179.057606  \n",
       "\n",
       "[5 rows x 56 columns]"
      ]
     },
     "execution_count": 485,
     "metadata": {},
     "output_type": "execute_result"
    }
   ],
   "source": [
    "neighborhood.head()"
   ]
  },
  {
   "cell_type": "code",
   "execution_count": 486,
   "metadata": {
    "collapsed": true
   },
   "outputs": [],
   "source": [
    "#save to an appropriate file\n",
    "neighborhood.to_csv('NBH_crosswalk_out.csv')"
   ]
  },
  {
   "cell_type": "code",
   "execution_count": null,
   "metadata": {
    "collapsed": true
   },
   "outputs": [],
   "source": []
  }
 ],
 "metadata": {
  "kernelspec": {
   "display_name": "Python 3",
   "language": "python",
   "name": "python3"
  },
  "language_info": {
   "codemirror_mode": {
    "name": "ipython",
    "version": 3
   },
   "file_extension": ".py",
   "mimetype": "text/x-python",
   "name": "python",
   "nbconvert_exporter": "python",
   "pygments_lexer": "ipython3",
   "version": "3.6.1"
  }
 },
 "nbformat": 4,
 "nbformat_minor": 2
}
