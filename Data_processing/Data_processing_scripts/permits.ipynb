{
 "cells": [
  {
   "cell_type": "code",
   "execution_count": 25,
   "metadata": {
    "collapsed": true
   },
   "outputs": [],
   "source": [
    "import math\n",
    "import pandas\n",
    "import json\n",
    "from shapely.geometry import shape, Point, Polygon\n",
    "from shapely.ops import cascaded_union"
   ]
  },
  {
   "cell_type": "code",
   "execution_count": 26,
   "metadata": {
    "collapsed": true
   },
   "outputs": [],
   "source": [
    "#a place to save the permit values and number to a BG\n",
    "BG_permits = pandas.read_csv('BG_permits.csv')"
   ]
  },
  {
   "cell_type": "code",
   "execution_count": 27,
   "metadata": {
    "collapsed": true
   },
   "outputs": [],
   "source": [
    "#load in all the permits \n",
    "permits = pandas.read_csv('Building_Permits.csv')"
   ]
  },
  {
   "cell_type": "code",
   "execution_count": 28,
   "metadata": {
    "collapsed": true
   },
   "outputs": [],
   "source": [
    "#load in the BG shapes\n",
    "with open('cityBG_simp20_trial.geojson') as f:\n",
    "    BGjs = json.load(f)"
   ]
  },
  {
   "cell_type": "code",
   "execution_count": 29,
   "metadata": {},
   "outputs": [],
   "source": [
    "#find which BG each permit is in, and (if the value of the permit is > 0) add it to the # and value of the BG\n",
    "count = 0\n",
    "for ind, permit in permits.iterrows():\n",
    "    #print(canopy)\n",
    "    point = Point(permit['Longitude'], permit['Latitude'])\n",
    "    for feature in BGjs['features']:\n",
    "        #print(feature)\n",
    "        polygon = shape(feature['geometry'])\n",
    "        #print(polygon.contains(point))\n",
    "        if polygon.contains(point):\n",
    "            count = count + 1\n",
    "            found_polygon = feature['properties']\n",
    "            BG_id = found_polygon['gis_id']\n",
    "            #print(BG_id)\n",
    "            \n",
    "            #look up value of this permit\n",
    "            value = permit['Value'][1:-3]\n",
    "            value = value.replace(',','')\n",
    "            value = float(value)\n",
    "            \n",
    "            #if value > 0, add a permit to the total number, and add its value\n",
    "            if value > 0:\n",
    "                current_num = BG_permits.loc[BG_permits['gis_id'] == int(BG_id), 'num']\n",
    "                index = BG_permits.loc[BG_permits['gis_id'] == int(BG_id)].index\n",
    "                new_num = current_num + 1\n",
    "                \n",
    "                current_value = BG_permits.loc[BG_permits['gis_id'] == int(BG_id), 'total_value']\n",
    "                new_value = current_value + value\n",
    "            \n",
    "                BG_permits.set_value(index, 'num', new_num)\n",
    "                BG_permits.set_value(index, 'total_value', new_value)\n",
    "            \n",
    "            break"
   ]
  },
  {
   "cell_type": "code",
   "execution_count": 30,
   "metadata": {},
   "outputs": [
    {
     "data": {
      "text/html": [
       "<div>\n",
       "<style>\n",
       "    .dataframe thead tr:only-child th {\n",
       "        text-align: right;\n",
       "    }\n",
       "\n",
       "    .dataframe thead th {\n",
       "        text-align: left;\n",
       "    }\n",
       "\n",
       "    .dataframe tbody tr th {\n",
       "        vertical-align: top;\n",
       "    }\n",
       "</style>\n",
       "<table border=\"1\" class=\"dataframe\">\n",
       "  <thead>\n",
       "    <tr style=\"text-align: right;\">\n",
       "      <th></th>\n",
       "      <th>gis_id</th>\n",
       "      <th>num</th>\n",
       "      <th>total_value</th>\n",
       "    </tr>\n",
       "  </thead>\n",
       "  <tbody>\n",
       "    <tr>\n",
       "      <th>0</th>\n",
       "      <td>530330001001</td>\n",
       "      <td>90</td>\n",
       "      <td>13796750.0</td>\n",
       "    </tr>\n",
       "    <tr>\n",
       "      <th>1</th>\n",
       "      <td>530330001002</td>\n",
       "      <td>25</td>\n",
       "      <td>22061612.0</td>\n",
       "    </tr>\n",
       "    <tr>\n",
       "      <th>2</th>\n",
       "      <td>530330001003</td>\n",
       "      <td>39</td>\n",
       "      <td>23477745.0</td>\n",
       "    </tr>\n",
       "    <tr>\n",
       "      <th>3</th>\n",
       "      <td>530330001004</td>\n",
       "      <td>10</td>\n",
       "      <td>50048662.0</td>\n",
       "    </tr>\n",
       "    <tr>\n",
       "      <th>4</th>\n",
       "      <td>530330001005</td>\n",
       "      <td>42</td>\n",
       "      <td>28313802.0</td>\n",
       "    </tr>\n",
       "  </tbody>\n",
       "</table>\n",
       "</div>"
      ],
      "text/plain": [
       "         gis_id  num  total_value\n",
       "0  530330001001   90   13796750.0\n",
       "1  530330001002   25   22061612.0\n",
       "2  530330001003   39   23477745.0\n",
       "3  530330001004   10   50048662.0\n",
       "4  530330001005   42   28313802.0"
      ]
     },
     "execution_count": 30,
     "metadata": {},
     "output_type": "execute_result"
    }
   ],
   "source": [
    "BG_permits.head()"
   ]
  },
  {
   "cell_type": "code",
   "execution_count": 31,
   "metadata": {
    "collapsed": true
   },
   "outputs": [],
   "source": [
    "#save to an appropriate file\n",
    "BG_permits.to_csv('BG_permit_values.csv')"
   ]
  },
  {
   "cell_type": "code",
   "execution_count": null,
   "metadata": {
    "collapsed": true
   },
   "outputs": [],
   "source": []
  }
 ],
 "metadata": {
  "kernelspec": {
   "display_name": "Python 3",
   "language": "python",
   "name": "python3"
  },
  "language_info": {
   "codemirror_mode": {
    "name": "ipython",
    "version": 3
   },
   "file_extension": ".py",
   "mimetype": "text/x-python",
   "name": "python",
   "nbconvert_exporter": "python",
   "pygments_lexer": "ipython3",
   "version": "3.6.1"
  }
 },
 "nbformat": 4,
 "nbformat_minor": 2
}
